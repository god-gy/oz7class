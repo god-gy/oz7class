{
 "cells": [
  {
   "cell_type": "markdown",
   "metadata": {
    "id": "V00JfV5AfmjI"
   },
   "source": [
    "## 함수"
   ]
  },
  {
   "cell_type": "code",
   "execution_count": 1,
   "metadata": {
    "colab": {
     "base_uri": "https://localhost:8080/"
    },
    "executionInfo": {
     "elapsed": 8,
     "status": "ok",
     "timestamp": 1760490455229,
     "user": {
      "displayName": "geonyeong Shin",
      "userId": "15270381269238522766"
     },
     "user_tz": -540
    },
    "id": "pVj1SjZCZJ7x",
    "outputId": "de209c0f-12f7-4303-9de9-2252f255cfcb"
   },
   "outputs": [
    {
     "name": "stdout",
     "output_type": "stream",
     "text": [
      "양파 2개를 수확했습니다.\n",
      "대파를 수확했습니다.\n"
     ]
    }
   ],
   "source": [
    "def 양파():\n",
    "    print(\"양파 2개를 수확했습니다.\")\n",
    "def 대파():\n",
    "    print(\"대파를 수확했습니다.\")\n",
    "\n",
    "# 함수 호출하기\n",
    "양파()\n",
    "대파()"
   ]
  },
  {
   "cell_type": "code",
   "execution_count": 3,
   "metadata": {
    "colab": {
     "base_uri": "https://localhost:8080/"
    },
    "executionInfo": {
     "elapsed": 41,
     "status": "ok",
     "timestamp": 1760490530032,
     "user": {
      "displayName": "geonyeong Shin",
      "userId": "15270381269238522766"
     },
     "user_tz": -540
    },
    "id": "FXWTlnataEDd",
    "outputId": "0e1d9966-2a1a-463a-c4a4-f30209fb1c45"
   },
   "outputs": [
    {
     "name": "stdout",
     "output_type": "stream",
     "text": [
      "농작물 수확량이 현저히 줄었습니다.\n",
      "올해 비가 많이 왔습니다.\n"
     ]
    }
   ],
   "source": [
    "def 수학():\n",
    "    print('올해 비가 많이 왔습니다.')\n",
    "\n",
    "print('농작물 수확량이 현저히 줄었습니다.')\n",
    "\n",
    "수학()"
   ]
  },
  {
   "cell_type": "code",
   "execution_count": 5,
   "metadata": {
    "colab": {
     "base_uri": "https://localhost:8080/"
    },
    "executionInfo": {
     "elapsed": 8,
     "status": "ok",
     "timestamp": 1760490710694,
     "user": {
      "displayName": "geonyeong Shin",
      "userId": "15270381269238522766"
     },
     "user_tz": -540
    },
    "id": "RBpXiaE4a6Sq",
    "outputId": "d596d606-5127-4fc2-aa9b-bf1f2f4256ba"
   },
   "outputs": [
    {
     "name": "stdout",
     "output_type": "stream",
     "text": [
      "function(10,9) 19\n"
     ]
    }
   ],
   "source": [
    "# 함수선언 # 함수명 # 입력(parameter : 매개변수)\n",
    "def function(x, y):\n",
    "    # 함수기능\n",
    "    z = x + y\n",
    "    # 출력, return을 만나면 함수 종료\n",
    "    return z\n",
    "                        # 함수호출(argument : 인수)\n",
    "print('function(10,9)', function(10,9))"
   ]
  },
  {
   "cell_type": "code",
   "execution_count": 4,
   "metadata": {
    "colab": {
     "base_uri": "https://localhost:8080/"
    },
    "executionInfo": {
     "elapsed": 7,
     "status": "ok",
     "timestamp": 1760490635969,
     "user": {
      "displayName": "geonyeong Shin",
      "userId": "15270381269238522766"
     },
     "user_tz": -540
    },
    "id": "26sgzMpsaaRp",
    "outputId": "184c9400-5664-4c50-f845-c07658013af7"
   },
   "outputs": [
    {
     "name": "stdout",
     "output_type": "stream",
     "text": [
      "옥수수와 수박의 수확량:  12\n"
     ]
    }
   ],
   "source": [
    "def function(x, y):\n",
    "    z = x + y\n",
    "    return z\n",
    "    print('진짠가요?')  # 함수 내에서 return 이후는 읽히지 않음\n",
    "\n",
    "print('옥수수와 수박의 수확량: ', function(10,2))"
   ]
  },
  {
   "cell_type": "code",
   "execution_count": 6,
   "metadata": {
    "colab": {
     "base_uri": "https://localhost:8080/"
    },
    "executionInfo": {
     "elapsed": 6,
     "status": "ok",
     "timestamp": 1760491006279,
     "user": {
      "displayName": "geonyeong Shin",
      "userId": "15270381269238522766"
     },
     "user_tz": -540
    },
    "id": "7ytA8bcwcGyp",
    "outputId": "9af8c96b-9b42-40ed-b27f-835c3543a258"
   },
   "outputs": [
    {
     "name": "stdout",
     "output_type": "stream",
     "text": [
      "고라니 2마리를 잡았습니다.\n"
     ]
    }
   ],
   "source": [
    "# 파라미타가 없을 수 있음\n",
    "def 수확():\n",
    "    print(\"고라니 2마리를 잡았습니다.\")\n",
    "\n",
    "수확()"
   ]
  },
  {
   "cell_type": "code",
   "execution_count": 7,
   "metadata": {
    "colab": {
     "base_uri": "https://localhost:8080/"
    },
    "executionInfo": {
     "elapsed": 46,
     "status": "ok",
     "timestamp": 1760491102492,
     "user": {
      "displayName": "geonyeong Shin",
      "userId": "15270381269238522766"
     },
     "user_tz": -540
    },
    "id": "a8Mqhz37cTtM",
    "outputId": "641d9f93-afd6-4615-d9a6-7e87448fb88d"
   },
   "outputs": [
    {
     "name": "stdout",
     "output_type": "stream",
     "text": [
      "19\n",
      "리턴이 없으면:  None\n"
     ]
    }
   ],
   "source": [
    "# 리턴이 없다면\n",
    "def function(x, y):\n",
    "    z = x + y\n",
    "    print(z)\n",
    "\n",
    "print('리턴이 없으면: ', function(10,9))\n",
    "\n",
    "# 반환값이 없으므로 정상 프린트 되지 않음."
   ]
  },
  {
   "cell_type": "code",
   "execution_count": 8,
   "metadata": {
    "colab": {
     "base_uri": "https://localhost:8080/"
    },
    "executionInfo": {
     "elapsed": 7,
     "status": "ok",
     "timestamp": 1760491173517,
     "user": {
      "displayName": "geonyeong Shin",
      "userId": "15270381269238522766"
     },
     "user_tz": -540
    },
    "id": "ke14vOvhctuE",
    "outputId": "4df58439-2fb8-4cc0-e44b-93e697c6c202"
   },
   "outputs": [
    {
     "name": "stdout",
     "output_type": "stream",
     "text": [
      "5000 원입니다.\n"
     ]
    }
   ],
   "source": [
    "# 리턴에 바로 수식을 넣어도 됨.\n",
    "def 계산(가격, 개수):\n",
    "    return 가격 * 개수\n",
    "\n",
    "print(계산(1000,5), '원입니다.')"
   ]
  },
  {
   "cell_type": "code",
   "execution_count": 9,
   "metadata": {
    "colab": {
     "base_uri": "https://localhost:8080/"
    },
    "executionInfo": {
     "elapsed": 8,
     "status": "ok",
     "timestamp": 1760491274758,
     "user": {
      "displayName": "geonyeong Shin",
      "userId": "15270381269238522766"
     },
     "user_tz": -540
    },
    "id": "LKSzKOPBc8by",
    "outputId": "62c1d552-5f55-465c-d2e1-6f41584514a0"
   },
   "outputs": [
    {
     "name": "stdout",
     "output_type": "stream",
     "text": [
      "6300 원입니다\n"
     ]
    }
   ],
   "source": [
    "def 계산(a, b, c):\n",
    "    합계 = a*1000 + b*500 + c*100\n",
    "    return 합계\n",
    "\n",
    "print(계산(5,2,3),'원입니다')"
   ]
  },
  {
   "cell_type": "code",
   "execution_count": null,
   "metadata": {
    "colab": {
     "base_uri": "https://localhost:8080/",
     "height": 297
    },
    "executionInfo": {
     "elapsed": 18,
     "status": "error",
     "timestamp": 1760491327003,
     "user": {
      "displayName": "geonyeong Shin",
      "userId": "15270381269238522766"
     },
     "user_tz": -540
    },
    "id": "0a49xOFsdVHv",
    "outputId": "5e569239-f860-4aa7-fe2c-4e2bee0ba725"
   },
   "outputs": [
    {
     "ename": "UnboundLocalError",
     "evalue": "cannot access local variable 'a' where it is not associated with a value",
     "output_type": "error",
     "traceback": [
      "\u001b[0;31m---------------------------------------------------------------------------\u001b[0m",
      "\u001b[0;31mUnboundLocalError\u001b[0m                         Traceback (most recent call last)",
      "\u001b[0;32m/tmp/ipython-input-1704029633.py\u001b[0m in \u001b[0;36m<cell line: 0>\u001b[0;34m()\u001b[0m\n\u001b[1;32m      4\u001b[0m     \u001b[0ma\u001b[0m \u001b[0;34m=\u001b[0m \u001b[0ma\u001b[0m\u001b[0;34m+\u001b[0m\u001b[0;36m1\u001b[0m\u001b[0;34m\u001b[0m\u001b[0;34m\u001b[0m\u001b[0m\n\u001b[1;32m      5\u001b[0m \u001b[0;34m\u001b[0m\u001b[0m\n\u001b[0;32m----> 6\u001b[0;31m \u001b[0mf\u001b[0m\u001b[0;34m(\u001b[0m\u001b[0;34m)\u001b[0m\u001b[0;34m\u001b[0m\u001b[0;34m\u001b[0m\u001b[0m\n\u001b[0m",
      "\u001b[0;32m/tmp/ipython-input-1704029633.py\u001b[0m in \u001b[0;36mf\u001b[0;34m()\u001b[0m\n\u001b[1;32m      2\u001b[0m \u001b[0;34m\u001b[0m\u001b[0m\n\u001b[1;32m      3\u001b[0m \u001b[0;32mdef\u001b[0m \u001b[0mf\u001b[0m\u001b[0;34m(\u001b[0m\u001b[0;34m)\u001b[0m\u001b[0;34m:\u001b[0m\u001b[0;34m\u001b[0m\u001b[0;34m\u001b[0m\u001b[0m\n\u001b[0;32m----> 4\u001b[0;31m     \u001b[0ma\u001b[0m \u001b[0;34m=\u001b[0m \u001b[0ma\u001b[0m\u001b[0;34m+\u001b[0m\u001b[0;36m1\u001b[0m\u001b[0;34m\u001b[0m\u001b[0;34m\u001b[0m\u001b[0m\n\u001b[0m\u001b[1;32m      5\u001b[0m \u001b[0;34m\u001b[0m\u001b[0m\n\u001b[1;32m      6\u001b[0m \u001b[0mf\u001b[0m\u001b[0;34m(\u001b[0m\u001b[0;34m)\u001b[0m\u001b[0;34m\u001b[0m\u001b[0;34m\u001b[0m\u001b[0m\n",
      "\u001b[0;31mUnboundLocalError\u001b[0m: cannot access local variable 'a' where it is not associated with a value"
     ]
    }
   ],
   "source": [
    "# 전역변수는 함수 내에서 읽기만 가능하고 수정은 불가능하다.\n",
    "\n",
    "# 전역변수\n",
    "a = 100\n",
    "\n",
    "# 함수\n",
    "def f():\n",
    "    a = a+1\n",
    "\n",
    "# 함수 호출\n",
    "f()\n",
    "\n",
    "# 함수 내에서 수정을 희망한다면 global을 이용하면 되긴 함."
   ]
  },
  {
   "cell_type": "code",
   "execution_count": 12,
   "metadata": {
    "colab": {
     "base_uri": "https://localhost:8080/"
    },
    "executionInfo": {
     "elapsed": 8,
     "status": "ok",
     "timestamp": 1760491544894,
     "user": {
      "displayName": "geonyeong Shin",
      "userId": "15270381269238522766"
     },
     "user_tz": -540
    },
    "id": "r5RitMz8dq1X",
    "outputId": "f156610d-40c1-4ee3-821e-0b2a46c46546"
   },
   "outputs": [
    {
     "name": "stdout",
     "output_type": "stream",
     "text": [
      "6300 원입니다\n"
     ]
    }
   ],
   "source": [
    "# won dictionry를 함수 안에서 사용하고 싶다면?\n",
    "won = {\n",
    "    'A등급' : 1000,\n",
    "    'B등급' : 500,\n",
    "    'C등급' : 100\n",
    "}\n",
    "\n",
    "def 계산(a, b, c):\n",
    "    합계 = won['A등급']*a + won['B등급']*b + won['C등급']*c\n",
    "    return 합계\n",
    "\n",
    "print(계산(5,2,3),'원입니다')\n",
    "\n",
    "# dict type의 변수만 함수 내로 가져올 수 있다!!!!************"
   ]
  },
  {
   "cell_type": "code",
   "execution_count": 13,
   "metadata": {
    "colab": {
     "base_uri": "https://localhost:8080/"
    },
    "executionInfo": {
     "elapsed": 5,
     "status": "ok",
     "timestamp": 1760491637869,
     "user": {
      "displayName": "geonyeong Shin",
      "userId": "15270381269238522766"
     },
     "user_tz": -540
    },
    "id": "-uSMDcqUeSDU",
    "outputId": "7b865f38-72b7-4dc5-99d7-aa56296db2d4"
   },
   "outputs": [
    {
     "name": "stdout",
     "output_type": "stream",
     "text": [
      "314.0\n"
     ]
    }
   ],
   "source": [
    "# 상수\n",
    "Pl = 3.14\n",
    "def circle(r, inputpi):\n",
    "    z = r*r*inputpi\n",
    "    return z\n",
    "\n",
    "# 함수 밖에서 변수를 가져오기 => 가능\n",
    "result = circle(10, Pl)\n",
    "print(result)"
   ]
  },
  {
   "cell_type": "code",
   "execution_count": 15,
   "metadata": {
    "colab": {
     "base_uri": "https://localhost:8080/"
    },
    "executionInfo": {
     "elapsed": 42,
     "status": "ok",
     "timestamp": 1760491852696,
     "user": {
      "displayName": "geonyeong Shin",
      "userId": "15270381269238522766"
     },
     "user_tz": -540
    },
    "id": "B9FlT4aPevV1",
    "outputId": "24fddad2-6f82-45d7-99a6-e3165830ee3d"
   },
   "outputs": [
    {
     "name": "stdout",
     "output_type": "stream",
     "text": [
      "오늘 수확한 수확물 : 12\n"
     ]
    }
   ],
   "source": [
    "# 전역변수를 강제로 함수 내로 가져오는 방법\n",
    "\n",
    "A = 0\n",
    "B = 0\n",
    "C = 0\n",
    "유물 = 0\n",
    "\n",
    "def 감자():\n",
    "    global A\n",
    "    A += 1\n",
    "\n",
    "def 양파():\n",
    "    global A, B, C\n",
    "    A += 3\n",
    "    B += 3\n",
    "    C += 4\n",
    "\n",
    "def 옥수수():\n",
    "    global 유물\n",
    "    유물 += 1\n",
    "\n",
    "감자()\n",
    "양파()\n",
    "옥수수()\n",
    "\n",
    "합계 = A + B + C + 유물\n",
    "print('오늘 수확한 수확물 :', 합계)"
   ]
  },
  {
   "cell_type": "code",
   "execution_count": null,
   "metadata": {
    "id": "_Xk_pYy-feyW"
   },
   "outputs": [],
   "source": [
    "# 지역변수와 전역변수 공부하기"
   ]
  },
  {
   "cell_type": "markdown",
   "metadata": {
    "id": "T0Xon1u_flia"
   },
   "source": [
    "### 함수 안의 함수\n",
    "\n",
    "\n",
    "```\n",
    "def 함수이름1():\n",
    "    코드\n",
    "    def 함수이름2():\n",
    "        코드\n",
    "```\n",
    "\n"
   ]
  },
  {
   "cell_type": "code",
   "execution_count": 16,
   "metadata": {
    "colab": {
     "base_uri": "https://localhost:8080/"
    },
    "executionInfo": {
     "elapsed": 14,
     "status": "ok",
     "timestamp": 1760492002141,
     "user": {
      "displayName": "geonyeong Shin",
      "userId": "15270381269238522766"
     },
     "user_tz": -540
    },
    "id": "LZ7LWdfQf0D6",
    "outputId": "7287f560-f410-42b4-a252-cf7aa9057256"
   },
   "outputs": [
    {
     "name": "stdout",
     "output_type": "stream",
     "text": [
      "콩콩팥팥 수확의 기쁨\n"
     ]
    }
   ],
   "source": [
    "def print_text():\n",
    "    text = \"콩콩팥팥 수확의 기쁨\"\n",
    "    def txt():\n",
    "        print(text)\n",
    "    txt()\n",
    "print_text()"
   ]
  },
  {
   "cell_type": "code",
   "execution_count": 19,
   "metadata": {
    "colab": {
     "base_uri": "https://localhost:8080/"
    },
    "executionInfo": {
     "elapsed": 9,
     "status": "ok",
     "timestamp": 1760492108475,
     "user": {
      "displayName": "geonyeong Shin",
      "userId": "15270381269238522766"
     },
     "user_tz": -540
    },
    "id": "jjiPyALCgFGl",
    "outputId": "124718e3-9505-48ac-c639-4d5aa99640b4"
   },
   "outputs": [
    {
     "name": "stdout",
     "output_type": "stream",
     "text": [
      "{'A등급': 4, 'B등급': 3, 'C등급': 4, '금': 1}\n",
      "12\n"
     ]
    }
   ],
   "source": [
    "def 수확철():\n",
    "    야채 = {'A등급':0, 'B등급':0, 'C등급':0}\n",
    "\n",
    "    def 양파():\n",
    "        야채['A등급'] += 1\n",
    "\n",
    "    def 대파():\n",
    "        야채['A등급'] += 3\n",
    "        야채['B등급'] += 3\n",
    "        야채['C등급'] += 4\n",
    "\n",
    "    def 쪽파():\n",
    "        야채['금'] = 1\n",
    "\n",
    "    양파()\n",
    "    대파()\n",
    "    쪽파()\n",
    "\n",
    "    return 야채\n",
    "\n",
    "print(수확철())\n",
    "print(sum(수확철().values()))"
   ]
  }
 ],
 "metadata": {
  "colab": {
   "authorship_tag": "ABX9TyMVllcukOsApFmKnF97oJ2D",
   "provenance": []
  },
  "kernelspec": {
   "display_name": "Python 3",
   "name": "python3"
  },
  "language_info": {
   "name": "python"
  }
 },
 "nbformat": 4,
 "nbformat_minor": 0
}
