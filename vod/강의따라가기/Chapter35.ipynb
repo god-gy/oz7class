{
 "cells": [
  {
   "cell_type": "markdown",
   "metadata": {},
   "source": [
    "[예외객체]\n",
    "- Exception을 사용하면 예외의 종류에 대해 알 수 있습니다."
   ]
  },
  {
   "cell_type": "code",
   "execution_count": 1,
   "metadata": {},
   "outputs": [
    {
     "name": "stdout",
     "output_type": "stream",
     "text": [
      "type(exception): <class 'ValueError'>\n",
      "exception: invalid literal for int() with base 10: '6센치'\n"
     ]
    }
   ],
   "source": [
    "# x=3cm, y=5cm\n",
    "try:\n",
    "    x, y = map(int, input(\"밑변과 높이를 입력해주세요\").split(\" \"))\n",
    "\n",
    "    # 계산결과 출력\n",
    "    print(f'삼각형의 넓이는 {x*y/2}입니다.')\n",
    "except Exception as exception:\n",
    "    # 예외에 대한 정보 출력\n",
    "    print(\"type(exception):\", type(exception))\n",
    "    print(\"exception:\", exception)"
   ]
  },
  {
   "cell_type": "markdown",
   "metadata": {},
   "source": [
    "예외객체 자료형은 Value Error이고<br> \n",
    "내용은 invalid literal for int() with base 10: '3cm'입니다."
   ]
  },
  {
   "cell_type": "markdown",
   "metadata": {},
   "source": [
    "[예외 구분하기]\n",
    "\n",
    "여러 가지 에외가 발생하는 상황을 구분지어 대비하기 위함"
   ]
  },
  {
   "cell_type": "code",
   "execution_count": 3,
   "metadata": {},
   "outputs": [
    {
     "name": "stdout",
     "output_type": "stream",
     "text": [
      "type(exception) <class 'IndexError'>\n",
      "exception:  list index out of range\n"
     ]
    }
   ],
   "source": [
    "numbers = [23, 11, 7, 4, 12]\n",
    "\n",
    "try:\n",
    "    numbers_input = int(input(\"찾고싶은 값의 위치를 입력해주세요\"))\n",
    "    print(f'{numbers_input}번째 요소: {numbers[numbers_input]}')\n",
    "except Exception as exception:\n",
    "    print(\"type(exception)\", type(exception))\n",
    "    print(\"exception: \",exception)"
   ]
  },
  {
   "cell_type": "markdown",
   "metadata": {},
   "source": [
    "[except: list index out of range]와 같은 에러를 구분하고 처리할 수 있는 기능을 파이썬에서 제공합니다.\n",
    "\n",
    "```\n",
    "try:\n",
    "    예외가 발생할 가능성이 있는 구문\n",
    "except 예외 a:\n",
    "    예외 a가 발생했을 때 실행할 구문\n",
    "except 예외 b:\n",
    "    예외 b가 발생했을 때 실행할 구문\n",
    "except 예외 c:\n",
    "    예외 c가 발생했을 때 실행할 구문 \n",
    "```"
   ]
  },
  {
   "cell_type": "code",
   "execution_count": 6,
   "metadata": {},
   "outputs": [
    {
     "name": "stdout",
     "output_type": "stream",
     "text": [
      "정수로 입력해주세요\n"
     ]
    }
   ],
   "source": [
    "numbers = [23, 11, 7, 4, 12]\n",
    "\n",
    "try:\n",
    "    numbers_input = int(input(\"찾고싶은 값의 위치를 입력해주세요\"))\n",
    "    print(f'{numbers_input}번째 요소: {numbers[numbers_input]}')\n",
    "except ValueError:\n",
    "    print(\"정수로 입력해주세요\")\n",
    "except IndexError:\n",
    "    print(\"리스트의 범위를 벗어났습니다. 입력값을 다시 확인해주세요.\")"
   ]
  },
  {
   "cell_type": "markdown",
   "metadata": {},
   "source": [
    "[예외 구분 구문와 예외 객체]\n",
    "\n",
    "as 키워드를 이용해 as exception을 사용할 수 있음"
   ]
  },
  {
   "cell_type": "code",
   "execution_count": 8,
   "metadata": {},
   "outputs": [
    {
     "name": "stdout",
     "output_type": "stream",
     "text": [
      "정수로 입력해주세요\n",
      "exception:  invalid literal for int() with base 10: 'dhwm'\n"
     ]
    }
   ],
   "source": [
    "numbers = [23, 11, 7, 4, 12]\n",
    "\n",
    "try:\n",
    "    numbers_input = int(input(\"찾고싶은 값의 위치를 입력해주세요\"))\n",
    "    print(f'{numbers_input}번째 요소: {numbers[numbers_input]}')\n",
    "except ValueError as exception:\n",
    "    print(\"정수로 입력해주세요\")\n",
    "    print(\"exception: \",exception)\n",
    "except IndexError as exception:\n",
    "    print(\"리스트의 범위를 벗어났습니다. 입력값을 다시 확인해주세요.\")\n",
    "    print(\"exception: \",exception)"
   ]
  },
  {
   "cell_type": "markdown",
   "metadata": {},
   "source": [
    "프로그램 실행 중 위 2가지 예외처리로 처리가 불가능한 경우를 대비해 앞서 사용했던<br>\n",
    "모든 예외 처리가 가능한 Excepton을 이용해 대처할 수 있습니다."
   ]
  },
  {
   "cell_type": "code",
   "execution_count": 11,
   "metadata": {},
   "outputs": [
    {
     "name": "stdout",
     "output_type": "stream",
     "text": [
      "3번째 요소: 4\n",
      "대처 불가한 예외가 발생했습니다.\n",
      "exception:  name '강제' is not defined\n"
     ]
    }
   ],
   "source": [
    "numbers = [23, 11, 7, 4, 12]\n",
    "\n",
    "try:\n",
    "    numbers_input = int(input(\"찾고싶은 값의 위치를 입력해주세요\"))\n",
    "    print(f'{numbers_input}번째 요소: {numbers[numbers_input]}')\n",
    "    강제.에러만들기\n",
    "except ValueError as exception:\n",
    "    print(\"정수로 입력해주세요\")\n",
    "    print(\"exception: \",exception)\n",
    "except IndexError as exception:\n",
    "    print(\"리스트의 범위를 벗어났습니다. 입력값을 다시 확인해주세요.\")\n",
    "    print(\"exception: \",exception)\n",
    "except Exception as exception:\n",
    "    print(\"대처 불가한 예외가 발생했습니다.\")\n",
    "    print(\"exception: \",exception)"
   ]
  },
  {
   "cell_type": "markdown",
   "metadata": {},
   "source": [
    "지금부터는 강의를 잠시 멈춰두고 아래 키워드에 대해서\n",
    "여러분들이 이해한 방식대로 정리하는 시간을 가져보시기 바랍니다.\n",
    " \n",
    "- 예외 종류와 그에 대한 설명을 해주세요(구글링 필요)"
   ]
  },
  {
   "cell_type": "markdown",
   "metadata": {},
   "source": [
    "#### 예외 종류와 그에 대한 설명을 해주세요\n",
    "1. ZeroDivisionError : 숫자를 0으로 나눌 때 발생하는 오류\n",
    "```\n",
    "print(10 / 0)  # ❌ ZeroDivisionError\n",
    "```\n",
    "2. ValueError : 자료형이 맞지 않을 때 발생 (예: 숫자로 바꿀 수 없는 문자열)\n",
    "```\n",
    "int(\"abc\")  # ❌ ValueError\n",
    "```\n",
    "3. TypeError : 자료형끼리 연산이 맞지 않을 때 발생\n",
    "```\n",
    "'문자' + 5  # ❌ TypeError\n",
    "```\n",
    "3. TypeError : 자료형끼리 연산이 맞지 않을 때 발생\n",
    "```\n",
    "'문자' + 5  # ❌ TypeError\n",
    "```\n",
    "4. NameError : 정의되지 않은 변수나 함수를 사용할 때 발생\n",
    "```\n",
    "print(x)  # ❌ NameError (x가 정의되지 않음)\n",
    "```\n",
    "5. IndexError : 리스트, 튜플 등에서 인덱스 범위를 벗어날 때 발생\n",
    "```\n",
    "lst = [1, 2, 3]\n",
    "print(lst[5])  # ❌ IndexError\n",
    "```\n",
    "6. KeyError : 딕셔너리에 없는 키를 사용할 때 발생\n",
    "```\n",
    "dic = {\"a\": 1}\n",
    "print(dic[\"b\"])  # ❌ KeyError\n",
    "```\n",
    "7. FileNotFoundError : 존재하지 않는 파일을 열 때 발생\n",
    "```\n",
    "open(\"not_exist.txt\")  # ❌ FileNotFoundError\n",
    "```\n",
    "8. ImportError : 모듈을 잘못 불러오거나, 없는 모듈을 불러올 때 발생\n",
    "```\n",
    "import not_existing_module  # ❌ ImportError\n",
    "```\n",
    "9. SyntaxError : 문법이 잘못되었을 때 발생\n",
    "```\n",
    "if True print(\"Hello\")  # ❌ SyntaxError\n",
    "```\n",
    "10. AttributeError : 존재하지 않는 속성이나 메서드를 사용할 때 발생\n",
    "```\n",
    "num = 10\n",
    "num.append(5)  # ❌ AttributeError (int에는 append 없음)\n",
    "```"
   ]
  }
 ],
 "metadata": {
  "kernelspec": {
   "display_name": "Python 3",
   "language": "python",
   "name": "python3"
  },
  "language_info": {
   "codemirror_mode": {
    "name": "ipython",
    "version": 3
   },
   "file_extension": ".py",
   "mimetype": "text/x-python",
   "name": "python",
   "nbconvert_exporter": "python",
   "pygments_lexer": "ipython3",
   "version": "3.9.6"
  }
 },
 "nbformat": 4,
 "nbformat_minor": 2
}
