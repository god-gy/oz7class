{
 "cells": [
  {
   "cell_type": "markdown",
   "metadata": {},
   "source": [
    "[모듈 만들기]\n",
    "\n",
    "모듈 : 함수의 집합\n",
    "\n",
    "같은 폴더 안에 2개의 파일을 만들겠습니다.\n",
    "- 모듈이 될 파일 : oz_module.py\n",
    "- 모듈을 불러와 실행할 파일 : oz.py"
   ]
  },
  {
   "cell_type": "code",
   "execution_count": null,
   "metadata": {},
   "outputs": [],
   "source": [
    "#oz_module.py\n",
    "pi = 3.141592\n",
    "\n",
    "#반지름 값을 받아오는 함수\n",
    "def number_input():\n",
    "    value = input(\"반지름을 입력해주세요\")\n",
    "    return float(value)\n",
    "\n",
    "#원의 둘레\n",
    "def get_circum(radius):\n",
    "    return 2 * pi * radius\n",
    "\n",
    "#원의 넓이\n",
    "def get_circle(radius):\n",
    "    return pi * radius * radius"
   ]
  },
  {
   "cell_type": "code",
   "execution_count": null,
   "metadata": {},
   "outputs": [
    {
     "ename": "ModuleNotFoundError",
     "evalue": "No module named 'oz_module'",
     "output_type": "error",
     "traceback": [
      "\u001b[0;31m---------------------------------------------------------------------------\u001b[0m",
      "\u001b[0;31mModuleNotFoundError\u001b[0m                       Traceback (most recent call last)",
      "Cell \u001b[0;32mIn[3], line 3\u001b[0m\n\u001b[1;32m      1\u001b[0m \u001b[38;5;66;03m#oz.py\u001b[39;00m\n\u001b[0;32m----> 3\u001b[0m \u001b[38;5;28;01mimport\u001b[39;00m\u001b[38;5;250m \u001b[39m\u001b[38;5;21;01moz_module\u001b[39;00m\u001b[38;5;250m \u001b[39m\u001b[38;5;28;01mas\u001b[39;00m\u001b[38;5;250m \u001b[39m\u001b[38;5;21;01moz\u001b[39;00m\n\u001b[1;32m      5\u001b[0m radius \u001b[38;5;241m=\u001b[39m oz\u001b[38;5;241m.\u001b[39mnumber_input()\n\u001b[1;32m      6\u001b[0m \u001b[38;5;28mprint\u001b[39m(oz\u001b[38;5;241m.\u001b[39mget_circum(radius))\n",
      "\u001b[0;31mModuleNotFoundError\u001b[0m: No module named 'oz_module'"
     ]
    }
   ],
   "source": [
    "#oz.py\n",
    "\n",
    "import oz_module as oz\n",
    "\n",
    "radius = oz.number_input()\n",
    "print(oz.get_circum(radius))\n",
    "print(oz.get_circle(radius))"
   ]
  }
 ],
 "metadata": {
  "kernelspec": {
   "display_name": "Python 3",
   "language": "python",
   "name": "python3"
  },
  "language_info": {
   "codemirror_mode": {
    "name": "ipython",
    "version": 3
   },
   "file_extension": ".py",
   "mimetype": "text/x-python",
   "name": "python",
   "nbconvert_exporter": "python",
   "pygments_lexer": "ipython3",
   "version": "3.9.6"
  }
 },
 "nbformat": 4,
 "nbformat_minor": 2
}
