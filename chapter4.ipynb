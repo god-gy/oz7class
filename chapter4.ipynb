{
  "nbformat": 4,
  "nbformat_minor": 0,
  "metadata": {
    "colab": {
      "provenance": [],
      "authorship_tag": "ABX9TyMRj/r7uaONLlKf3Y5SPfnT",
      "include_colab_link": true
    },
    "kernelspec": {
      "name": "python3",
      "display_name": "Python 3"
    },
    "language_info": {
      "name": "python"
    }
  },
  "cells": [
    {
      "cell_type": "markdown",
      "metadata": {
        "id": "view-in-github",
        "colab_type": "text"
      },
      "source": [
        "<a href=\"https://colab.research.google.com/github/god-gy/oz7class/blob/main/chapter4.ipynb\" target=\"_parent\"><img src=\"https://colab.research.google.com/assets/colab-badge.svg\" alt=\"Open In Colab\"/></a>"
      ]
    },
    {
      "cell_type": "markdown",
      "source": [
        "##사칙연산\n",
        "\n",
        "더하기 : +\n",
        "\n",
        "빼기 : -\n",
        "\n",
        "곱하기 : *\n",
        "\n",
        "나누기 :\n",
        "* / : 우리가 알고 있는 나누기와 동일한 기능 ( 예 : 5/2=2.5 )\n",
        "* // : 몫을 반환 ( 예 : 5/2=2 )\n",
        "* % : 나머지를 반환 ( 예 : 5/2=1 )\n",
        "\n",
        "거듭제곱 : **"
      ],
      "metadata": {
        "id": "WA1mRzugb3Ut"
      }
    },
    {
      "cell_type": "code",
      "source": [
        "# 더하기\n",
        "print(3+2)"
      ],
      "metadata": {
        "colab": {
          "base_uri": "https://localhost:8080/"
        },
        "id": "Khyg3trIckkA",
        "outputId": "ebf65470-7adc-4308-e41a-6fc3bf67003d"
      },
      "execution_count": null,
      "outputs": [
        {
          "output_type": "stream",
          "name": "stdout",
          "text": [
            "5\n"
          ]
        }
      ]
    },
    {
      "cell_type": "code",
      "source": [
        "# 빼기\n",
        "print(3-1)"
      ],
      "metadata": {
        "colab": {
          "base_uri": "https://localhost:8080/"
        },
        "id": "-M4ceEzicoqQ",
        "outputId": "2a1bba5c-bd39-4088-aca6-f47bd363f18e"
      },
      "execution_count": null,
      "outputs": [
        {
          "output_type": "stream",
          "name": "stdout",
          "text": [
            "2\n"
          ]
        }
      ]
    },
    {
      "cell_type": "code",
      "source": [
        "# 곱하기\n",
        "print(3*2)"
      ],
      "metadata": {
        "colab": {
          "base_uri": "https://localhost:8080/"
        },
        "id": "XpkJmPIrcrjQ",
        "outputId": "64c66f96-9ca5-4e81-e02b-7f0d92fc591c"
      },
      "execution_count": null,
      "outputs": [
        {
          "output_type": "stream",
          "name": "stdout",
          "text": [
            "6\n"
          ]
        }
      ]
    },
    {
      "cell_type": "code",
      "source": [
        "# 나누기 /\n",
        "print(7/2)\n",
        "\n",
        "# 나누기 //\n",
        "print(7//2)\n",
        "\n",
        "# 나누기 %\n",
        "print(7%2)"
      ],
      "metadata": {
        "colab": {
          "base_uri": "https://localhost:8080/"
        },
        "id": "HttxhI6tcuwh",
        "outputId": "c1995b3e-fa50-49fc-ec02-806c7721714f"
      },
      "execution_count": null,
      "outputs": [
        {
          "output_type": "stream",
          "name": "stdout",
          "text": [
            "3.5\n",
            "3\n",
            "1\n"
          ]
        }
      ]
    },
    {
      "cell_type": "markdown",
      "source": [
        "내장함수 : divmod\n",
        "\n",
        "> 내장함수 : 자주 사용하는 기능을 미리 만들어 놓은 것을 내장함수라고 함.\n",
        "\n",
        "**divmod** : 몫과 나머지를 동시에 구해줌"
      ],
      "metadata": {
        "id": "ju8-oGHhdTZj"
      }
    },
    {
      "cell_type": "code",
      "source": [
        "print(divmod(3,2))\n",
        "print(divmod(7,4))\n",
        "print(divmod(13,2))\n",
        "print(divmod(19,4))\n",
        "print(divmod(15,5))\n",
        "\n",
        "print(7//4,\",\",7%4)"
      ],
      "metadata": {
        "colab": {
          "base_uri": "https://localhost:8080/"
        },
        "id": "A5HTeAZid0Zv",
        "outputId": "6b86f137-d1f3-4594-8e02-f187a6a73a01"
      },
      "execution_count": null,
      "outputs": [
        {
          "output_type": "stream",
          "name": "stdout",
          "text": [
            "(1, 1)\n",
            "(1, 3)\n",
            "(6, 1)\n",
            "(4, 3)\n",
            "(3, 0)\n",
            "1 , 3\n"
          ]
        }
      ]
    },
    {
      "cell_type": "markdown",
      "source": [
        "### 괄호\n",
        "\n",
        "수학에서 사용되는 괄호와 동일한 기능\n",
        "\n",
        "() : 괄호 안에 있는 것을 먼저 계산\n",
        "\n",
        "사칙연산 순서 : 괄호 -> 곱셈, 나눗셈 -> 덧셈, 뺄셈"
      ],
      "metadata": {
        "id": "BMgU2l7reoxf"
      }
    },
    {
      "cell_type": "code",
      "source": [
        "3+2*4"
      ],
      "metadata": {
        "colab": {
          "base_uri": "https://localhost:8080/"
        },
        "id": "GFmHo313enut",
        "outputId": "0d811b2b-df69-45a0-d367-075c76c107e3"
      },
      "execution_count": null,
      "outputs": [
        {
          "output_type": "execute_result",
          "data": {
            "text/plain": [
              "11"
            ]
          },
          "metadata": {},
          "execution_count": 19
        }
      ]
    },
    {
      "cell_type": "code",
      "source": [
        "(3+2)*4"
      ],
      "metadata": {
        "id": "Hz4eKHmefEdI",
        "outputId": "3b2e8057-9dbc-45b9-a927-ee3c3287a734",
        "colab": {
          "base_uri": "https://localhost:8080/"
        }
      },
      "execution_count": null,
      "outputs": [
        {
          "output_type": "execute_result",
          "data": {
            "text/plain": [
              "20"
            ]
          },
          "metadata": {},
          "execution_count": 20
        }
      ]
    }
  ]
}