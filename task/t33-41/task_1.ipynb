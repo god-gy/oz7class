{
 "cells": [
  {
   "cell_type": "markdown",
   "metadata": {},
   "source": [
    "안녕하세요. 수강생 여러분~! Chapter33 ~ 41 수업은 잘 들으셨나요?\n",
    "\n",
    "Chapter33 ~ 41의 수업 내용을 바탕으로 아래 문제를 풀어주시면 됩니다.\n",
    "\n",
    "\n",
    "<br>\n",
    "\n",
    "\n",
    "[**답변 입력 방법**]\n",
    "\n",
    "문제 아래에 있는 코드 입력창에 정답코드를 작성하신 후  __▷ 버튼을 클릭해 코드를 실행__ 해보세요<br>"
   ]
  },
  {
   "cell_type": "markdown",
   "metadata": {},
   "source": [
    "---"
   ]
  },
  {
   "cell_type": "markdown",
   "metadata": {},
   "source": [
    "[문제 1]\n",
    "\n",
    "사용자로부터 두 개의 숫자를 입력받아 나눗셈을 수행하는 프로그램을 작성하세요. \n",
    "\n",
    "[예외처리]\n",
    "- 입력 값이 숫자가 아닐 때 발생할 수 있는 ValueError\n",
    "- 나누는 수가 0일 때 발생할 수 있는 ZeroDivisionError\n",
    "- 위 2가지 예외처리 후 사용자에게 이해하기 쉬운 메시지 작성 후 출력되도록 코드를 작성"
   ]
  },
  {
   "cell_type": "code",
   "execution_count": 3,
   "metadata": {},
   "outputs": [
    {
     "name": "stdout",
     "output_type": "stream",
     "text": [
      "나눗셈 도우미 등장!\n",
      "답은:  4.0\n"
     ]
    }
   ],
   "source": [
    "try:\n",
    "    print(\"나눗셈 도우미 등장!\")\n",
    "    a = int(input(\"첫번째 숫자를 입력하세요: \"))\n",
    "    b = int(input(\"두번째 숫자를 입력하세요: \"))\n",
    "    print(\"답은: \",a/b)\n",
    "except ValueError:\n",
    "    print(\"숫자로 입력해 주세요.\")\n",
    "except ZeroDivisionError:\n",
    "    print(\"나눗셈에 0을 사용하면 0만 나와요ㅠ\")\n"
   ]
  },
  {
   "cell_type": "markdown",
   "metadata": {},
   "source": [
    "---"
   ]
  },
  {
   "cell_type": "markdown",
   "metadata": {},
   "source": [
    "[문제 2]\n",
    "\n",
    "파일을 읽어서 내용을 출력하는 프로그램을 작성하세요. \n",
    "\n",
    "- 파일이 존재하지 않을 때 발생하는 FileNotFoundError를 처리\n",
    "- 파일이 존재하지 않을 경우 \"파일을 찾을 수 없습니다.\"라는 메시지를 출력"
   ]
  },
  {
   "cell_type": "code",
   "execution_count": 4,
   "metadata": {},
   "outputs": [
    {
     "name": "stdout",
     "output_type": "stream",
     "text": [
      "파일을 찾을 수 없습니다.\n"
     ]
    }
   ],
   "source": [
    "try:\n",
    "    with open('oz_module.py', 'r') as f:\n",
    "        print(f.read())\n",
    "except FileNotFoundError:\n",
    "    print(\"파일을 찾을 수 없습니다.\")"
   ]
  },
  {
   "cell_type": "markdown",
   "metadata": {},
   "source": [
    "---"
   ]
  },
  {
   "cell_type": "markdown",
   "metadata": {},
   "source": [
    "[문제 3]\n",
    "\n",
    "사용자로부터 여러 개의 숫자를 입력받아 리스트에 저장한 후, 사용자가 'done'이라고 입력할 때까지 계속 입력받으세요. \n",
    "\n",
    "- 입력 중 숫자가 아닌 값이 입력되면 ValueError를 처리\n",
    "- 숫자 외 값이 입력된 경우 어떤 값이 잘못 입력되었는지 사용자에게 알려주는 문구 출력<br>\n",
    "  (예: f\"잘못된 값: {변수}. 숫자를 입력해주세요.\")\n",
    "\n"
   ]
  },
  {
   "cell_type": "code",
   "execution_count": 7,
   "metadata": {},
   "outputs": [
    {
     "name": "stdout",
     "output_type": "stream",
     "text": [
      "잘못된 값: 팔 숫자를 입력해주세요.\n"
     ]
    }
   ],
   "source": [
    "numbers = []\n",
    "\n",
    "while True:\n",
    "    try:\n",
    "        number = input(\"숫자를 입력하세요(입력 종료를 원하신다면 'done'을 입력하세요): \")\n",
    "        if number == 'done':\n",
    "            break\n",
    "        numbers.append(int(number))\n",
    "    except ValueError:\n",
    "        print(f\"잘못된 값: {number} 숫자를 입력해주세요.\")"
   ]
  },
  {
   "cell_type": "markdown",
   "metadata": {},
   "source": [
    "---"
   ]
  },
  {
   "cell_type": "markdown",
   "metadata": {},
   "source": [
    "[문제 4]\n",
    "\n",
    "사용자 정의 예외 NegativeNumberError를 생성하고, 사용자로부터 숫자를 입력받아 음수일 경우 NegativeNumberError를 발생시키는 프로그램을 작성하세요. \n",
    "\n",
    "- 예외 처리 구문을 사용하여 음수 입력 시 \"양수를 입력해주세요.\"라는 메시지를 출력"
   ]
  },
  {
   "cell_type": "code",
   "execution_count": null,
   "metadata": {},
   "outputs": [],
   "source": [
    "# 오답. 왜.. 안나오냐ㅏㅏㅏㅏㅏㅏㅏ\n",
    "class NegativeNumberError(Exception):\n",
    "    pass\n",
    "\n",
    "try:\n",
    "    num = int(input(\"숫자를 입력하세요: \"))\n",
    "    if num > 0:\n",
    "        print(f\"입력한 숫자: {num}\")\n",
    "except NegativeNumberError:\n",
    "    print(\"양수를 입력해주세요.\")"
   ]
  },
  {
   "cell_type": "code",
   "execution_count": 15,
   "metadata": {},
   "outputs": [
    {
     "name": "stdout",
     "output_type": "stream",
     "text": [
      "양수를 입력해주세요.\n"
     ]
    }
   ],
   "source": [
    "# 재도전. 나오긴 하나 정답과 다름.\n",
    "class NegativeNumberError(Exception):\n",
    "    pass\n",
    "\n",
    "try:\n",
    "    num = int(input(\"숫자를 입력하세요: \"))\n",
    "    if num < 0:\n",
    "        raise NegativeNumberError\n",
    "    print(f\"입력한 숫자: {num}\")\n",
    "except NegativeNumberError:\n",
    "    print(\"양수를 입력해주세요.\")\n"
   ]
  },
  {
   "cell_type": "code",
   "execution_count": null,
   "metadata": {},
   "outputs": [],
   "source": [
    "# 정답\n",
    "\n",
    "# Exception 클래스를 상속받아 새로운 예외 클래스인 NegativeNumberError 클래스 생성\n",
    "class NegativeNumberError(Exception):\n",
    "\n",
    "    # 파라미타 message를 가진 생성자 함수 생성. 리턴값 없음.\n",
    "    def __init__(self, message) -> None:\n",
    "        # contact_name 변수에 에러명 저장\n",
    "        self.contact_name = \"NegativeNumberError\"\n",
    "        # message 변수에 예외메시지 저장\n",
    "        self.message = message\n",
    "        # 부모 클래스 Exception의 생성자 메서드 호출. 예외메시지를 부모 클래스에도 저장.\n",
    "        super().__init__(message)\n",
    "    \n",
    "    # 예외가 출력될때 보여줄 문자열 정의. 리턴값 스트링.\n",
    "    def __str__(self) -> str:\n",
    "        # NegativeNumberError : 에러메시지 // 형태로 출력되도록 리턴\n",
    "        return f\"{self.contact_name} : {self.message}\"\n",
    "\n",
    "# 예외가 발생할수 있는 코드\n",
    "try:\n",
    "    # 사용자에게 입력받은 문자를 정수로 변환시켜 number 변수에 저장.\n",
    "    number = int(input(\"양수를 입력하세요: \"))\n",
    "    # 입력받은 숫자가 음수라면\n",
    "    if number < 0:\n",
    "        # NegativeNumberError 예외를 발생시키며 메시지 전달\n",
    "        raise NegativeNumberError(\"음수가 입력되었습니다. 양수를 입력해주세요!\")\n",
    "# 예외 NegativeNumberError 처리\n",
    "except NegativeNumberError as e:\n",
    "    # 예외 메시지 __str__ 메서드 출력\n",
    "    print(e)"
   ]
  },
  {
   "cell_type": "markdown",
   "metadata": {},
   "source": [
    "---"
   ]
  },
  {
   "cell_type": "markdown",
   "metadata": {},
   "source": [
    "[문제 5]\n",
    "\n",
    "datetime 모듈을 사용하여 현재 날짜와 시간을 출력하는 프로그램을 작성하세요. \n",
    "\n",
    "또한, 사용자로부터 태어난 년도를 입력받아 현재 나이를 계산하여 출력하세요."
   ]
  },
  {
   "cell_type": "code",
   "execution_count": 21,
   "metadata": {},
   "outputs": [
    {
     "name": "stdout",
     "output_type": "stream",
     "text": [
      "현재 날짜 및 시간: 2025-10-17 19:11:34.263245\n",
      "현재 나이: 31\n"
     ]
    }
   ],
   "source": [
    "from datetime import datetime\n",
    "\n",
    "now = datetime.now()\n",
    "print(\"현재 날짜 및 시간:\", now)\n",
    "\n",
    "birth_year = int(input(\"태어난 년도를 입력하세요: \"))\n",
    "print(\"현재 나이:\", now.year-birth_year+1)"
   ]
  },
  {
   "cell_type": "markdown",
   "metadata": {},
   "source": [
    "---"
   ]
  },
  {
   "cell_type": "markdown",
   "metadata": {},
   "source": [
    "[문제 6]\n",
    "\n",
    "requests 모듈을 사용하여, 웹 페이지의 HTML을 가져오는 간단한 웹 스크레이퍼를 작성하세요.\n",
    "\n",
    "'https://kream.co.kr/'에서<br> \n",
    "데이터를 가져와서 상태 코드와 HTML의 첫 100자를 출력하세요.<br>\n",
    "(실습 전 requests 모듈을 설치해야 함)"
   ]
  },
  {
   "cell_type": "code",
   "execution_count": null,
   "metadata": {},
   "outputs": [
    {
     "name": "stderr",
     "output_type": "stream",
     "text": [
      "/Users/admin/Library/Python/3.9/lib/python/site-packages/urllib3/__init__.py:35: NotOpenSSLWarning: urllib3 v2 only supports OpenSSL 1.1.1+, currently the 'ssl' module is compiled with 'LibreSSL 2.8.3'. See: https://github.com/urllib3/urllib3/issues/3020\n",
      "  warnings.warn(\n"
     ]
    },
    {
     "name": "stdout",
     "output_type": "stream",
     "text": [
      "상태 코드: 500\n",
      "HTML 첫 100자: <!DOCTYPE html>\n",
      "<html lang=\"ko\">\n",
      "<head>\n",
      "<meta name=\"robots\" content=\"noindex, nofollow\" />\n",
      "<meta htt\n"
     ]
    },
    {
     "data": {
      "text/plain": [
       "'\\n상태 코드: 200\\nHTML 내용 (첫 100자): <!DOCTYPE html>\\n<html lang=\"ko\">\\n<head>\\n<meta name=\"robots\" content=\"noindex, nofollow\" />\\n<meta htt\\n'"
      ]
     },
     "execution_count": 1,
     "metadata": {},
     "output_type": "execute_result"
    }
   ],
   "source": [
    "# requests 모듈 설치에 실패. 약 30분간 검색해가며 설치해봤지만 성공 못함. 코랩에서 진행\n",
    "# -> 모듈 설치 성공. pip가 아니라 pip3였음...\n",
    "\n",
    "import requests\n",
    "\n",
    "response = requests.get('https://kream.co.kr/')\n",
    "print(\"상태 코드:\", response.status_code)\n",
    "print(\"HTML 첫 100자:\", response.text[:100])\n",
    "\n",
    "# 출력값\n",
    "'''\n",
    "상태 코드: 200\n",
    "HTML 내용 (첫 100자): <!DOCTYPE html>\n",
    "<html lang=\"ko\">\n",
    "<head>\n",
    "<meta name=\"robots\" content=\"noindex, nofollow\" />\n",
    "<meta htt\n",
    "'''"
   ]
  },
  {
   "cell_type": "markdown",
   "metadata": {},
   "source": [
    "---"
   ]
  },
  {
   "cell_type": "markdown",
   "metadata": {},
   "source": [
    "[문제 7]\n",
    "\n",
    "함수 실행 시간을 측정하는 데코레이터 timer_decorator를 작성하세요. \n",
    "\n",
    "임의의 함수가 실행되는 시간을 측정하여 \"함수 실행 시간: x.xx초\" 형태로 출력하세요."
   ]
  },
  {
   "cell_type": "code",
   "execution_count": 104,
   "metadata": {},
   "outputs": [
    {
     "name": "stdout",
     "output_type": "stream",
     "text": [
      "함수 실행 시간: 0.00초\n",
      "30414093201713378043612608166064768844377641568960512000000000000\n"
     ]
    }
   ],
   "source": [
    "import time\n",
    "\n",
    "def timer_decorator(function):\n",
    "    def wrapper(*args, **kwargs):\n",
    "        start = time.time()\n",
    "        result = function(*args, **kwargs)\n",
    "        end = time.time()\n",
    "        print(f'함수 실행 시간: {end-start:.2f}초')\n",
    "        return result\n",
    "    return wrapper\n",
    "\n",
    "@timer_decorator\n",
    "def oz_factorial(n):\n",
    "    output = 1\n",
    "    for i in range(1, n+1):\n",
    "        output *= i\n",
    "    return output\n",
    "n = int(input(\"구하고자하는 팩토리얼의 수를 입력해주세요\"))\n",
    "\n",
    "print(oz_factorial(n))"
   ]
  },
  {
   "cell_type": "markdown",
   "metadata": {},
   "source": [
    "---"
   ]
  },
  {
   "cell_type": "markdown",
   "metadata": {},
   "source": [
    "[문제 8]\n",
    "\n",
    "여러분이 자주 사용하는 수학적 연산<br>\n",
    "(예: 삼각형 넓이, 원의 넓이, 직육면체의 넓이)을 수행하는 함수들을 포함하는 mymath.py라는 이름의 모듈을 만드세요. \n",
    "\n",
    "이 모듈을 사용하여 작성된 함수들을 실제로 임포트하고 사용하는 간단한 프로그램을 작성하세요."
   ]
  },
  {
   "cell_type": "code",
   "execution_count": 41,
   "metadata": {},
   "outputs": [
    {
     "name": "stdout",
     "output_type": "stream",
     "text": [
      "17.5\n",
      "314.1592653589793\n",
      "476\n"
     ]
    }
   ],
   "source": [
    "from mymath import triangle_area, circle_area, rectangular_prism_surface_area\n",
    "\n",
    "print(triangle_area(5,7))\n",
    "print(circle_area(10))\n",
    "print(rectangular_prism_surface_area(9,20,2))"
   ]
  },
  {
   "cell_type": "markdown",
   "metadata": {},
   "source": [
    "---"
   ]
  },
  {
   "cell_type": "markdown",
   "metadata": {},
   "source": [
    "[문제 9]\n",
    "\n",
    "animals라는 패키지를 만들고, 이 패키지 내에 mammals, birds라는 두 개의 서브 모듈을 생성하세요. \n",
    "\n",
    "- 각 모듈에는 최소한 한 개 이상의 동물에 관한 클래스를 정의하세요<br>\n",
    "  (예: mammals에는 Dog, birds에는 Eagle)\n",
    "- 이 패키지와 모듈을 사용하여 동물들의 정보를 출력하는 프로그램을 작성\n",
    "\n",
    "폴더 및 파일 구조\n",
    "```\n",
    "animals/(폴더)\n",
    "├── __init__.py\n",
    "├── mammals.py\n",
    "└── birds.py\n",
    "```\n"
   ]
  },
  {
   "cell_type": "code",
   "execution_count": null,
   "metadata": {},
   "outputs": [],
   "source": [
    "from animals_package.mammals import Dog\n",
    "from animals_package.birds import Eagle\n",
    "\n",
    "dog = Dog(\"신명남\")\n",
    "print(dog.doing())\n",
    "\n",
    "eagle = Eagle(\"신먼지\")\n",
    "print(eagle.fly())"
   ]
  },
  {
   "cell_type": "markdown",
   "metadata": {},
   "source": [
    "---"
   ]
  }
 ],
 "metadata": {
  "kernelspec": {
   "display_name": "Python 3",
   "language": "python",
   "name": "python3"
  },
  "language_info": {
   "codemirror_mode": {
    "name": "ipython",
    "version": 3
   },
   "file_extension": ".py",
   "mimetype": "text/x-python",
   "name": "python",
   "nbconvert_exporter": "python",
   "pygments_lexer": "ipython3",
   "version": "3.9.6"
  }
 },
 "nbformat": 4,
 "nbformat_minor": 2
}
