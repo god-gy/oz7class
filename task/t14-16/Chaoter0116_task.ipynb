{
 "cells": [
  {
   "cell_type": "markdown",
   "metadata": {
    "id": "BX7SgOeWu86I"
   },
   "source": [
    "안녕하세요. 수강생 여러분~! \n",
    "\n",
    "다시 돌아온 조금 더 성장할 기 ! 회 ! \n",
    "\n",
    "Chapter01 ~ 16의 수업 내용을 바탕으로 아래 문제를 풀어주시면 됩니다 !\n",
    "\n",
    "지금까지 잘 해오셨으니까, 총 복습한다고 생각하시고 한번 도전해보세요 !!!\n",
    "\n",
    "차근 차근 문제와 요구사항을 읽고 작성해보세요.\n",
    "\n",
    "<br>\n",
    "\n",
    "\n",
    "[**답변 입력 방법**]\n",
    "\n",
    "문제 아래에 있는 코드 입력창에 정답코드를 작성하신 후  __▷ 버튼을 클릭해 코드를 실행__ 해보세요<br>"
   ]
  },
  {
   "cell_type": "markdown",
   "metadata": {},
   "source": [
    "---"
   ]
  },
  {
   "cell_type": "markdown",
   "metadata": {},
   "source": [
    "#### 프로젝트: 붕어빵 자동 판매 시스템\n",
    "\n",
    "\n",
    "당신은 붕어빵 가게의 주인입니다. \n",
    "\n",
    "손님들이 붕어빵을 주문하면 이를 자동으로 처리하고, 재고를 관리하는 시스템을 만들고자 합니다. \n",
    "\n",
    "또한, 관리자 모드를 통해 재고를 추가할 수 있는 기능을 구현해야 합니다.\n"
   ]
  },
  {
   "cell_type": "markdown",
   "metadata": {},
   "source": [
    "__[문제 1: 붕어빵 재고 확인]__\n",
    "\n",
    "붕어빵 가게의 현재 재고를 확인하는 기능을 구현하세요.\n",
    "\n",
    "요구사항:\n",
    "- 현재 붕어빵의 재고를 딕셔너리로 관리합니다.\n",
    "- 딕셔너리에는 붕어빵의 종류와 각각의 재고 개수가 저장됩니다.\n",
    "- 현재 재고를 화면에 출력하세요.\n",
    "\n",
    "붕어빵 재고\n",
    "- 팥붕어빵 : 10개\n",
    "- 슈크림붕어빵 : 8개\n",
    "- 초코붕어빵 : 5개"
   ]
  },
  {
   "cell_type": "code",
   "execution_count": 2,
   "metadata": {},
   "outputs": [
    {
     "name": "stdout",
     "output_type": "stream",
     "text": [
      "{'팥붕어빵': 10, '슈크림붕어빵': 8, '초코붕어빵': 5}\n"
     ]
    }
   ],
   "source": [
    "# 붕어빵 재고 파악\n",
    "\n",
    "jeago = {\n",
    "    '팥붕어빵': 10,\n",
    "    '슈크림붕어빵': 8,\n",
    "    '초코붕어빵': 5\n",
    "}\n",
    "\n",
    "print(jeago)"
   ]
  },
  {
   "cell_type": "markdown",
   "metadata": {},
   "source": [
    "__[문제 2: 붕어빵 주문 받기]__\n",
    "\n",
    "손님이 주문한 붕어빵의 종류와 개수를 입력받는 기능을 구현하세요.\n",
    "\n",
    "요구사항:\n",
    "- 손님이 주문할 붕어빵의 종류와 개수를 입력받습니다.\n",
    "- 주문 내용을 딕셔너리에 저장하세요.\n",
    "- 주문 내역을 출력해주세요."
   ]
  },
  {
   "cell_type": "code",
   "execution_count": null,
   "metadata": {},
   "outputs": [
    {
     "name": "stdout",
     "output_type": "stream",
     "text": [
      "{'초코붕어빵': 3}\n"
     ]
    }
   ],
   "source": [
    "jumun = {}\n",
    "\n",
    "jumun_jungryu = input('붕어빵 종류를 입력하세요: ')\n",
    "jumun_su = int(input('붕어빵 수량을 입력하세요: '))\n",
    "\n",
    "jumun[jumun_jungryu] = jumun_su\n",
    "\n",
    "print(jumun)"
   ]
  },
  {
   "cell_type": "markdown",
   "metadata": {},
   "source": [
    "__[문제 3: 붕어빵 주문 처리]__\n",
    "\n",
    "손님의 주문을 처리하여 붕어빵 재고를 업데이트하는 기능을 구현하세요.\n",
    "\n",
    "요구사항:\n",
    "- 손님의 주문 내용을 기반으로 재고를 업데이트합니다.\n",
    "- 재고가 부족할 경우, 손님에게 재고 부족을 알리고 재고를 감소시키지 않습니다.\n",
    "- 재고가 충분할 경우, 주문한 만큼 재고를 감소시키고 판매를 완료합니다.\n",
    "- 판매가 완료된 경우 판매된 붕어빵 맛과 개수를 출력하세요."
   ]
  },
  {
   "cell_type": "code",
   "execution_count": 10,
   "metadata": {},
   "outputs": [
    {
     "name": "stdout",
     "output_type": "stream",
     "text": [
      "재고가 부족합니다.\n",
      "남은 재고: {'팥붕어빵': 10, '슈크림붕어빵': 8, '초코붕어빵': 2}\n"
     ]
    }
   ],
   "source": [
    "if jeago[jumun_jungryu] >= jumun_su:\n",
    "    jeago[jumun_jungryu] -= jumun_su\n",
    "else:\n",
    "    print('재고가 부족합니다.')\n",
    "print('남은 재고:', jeago)"
   ]
  },
  {
   "cell_type": "markdown",
   "metadata": {},
   "source": [
    "__[문제 4: 여러 손님 주문 처리]__\n",
    "\n",
    "여러 손님들의 주문을 처리할 수 있도록 시스템을 확장하세요.\n",
    "\n",
    "요구사항:\n",
    "- 손님이 \"종료\"를 입력할 때까지 주문을 계속 받습니다.\n",
    "- 각 주문마다 재고를 업데이트합니다.\n",
    "- 현재 재고를 화면에 출력합니다."
   ]
  },
  {
   "cell_type": "code",
   "execution_count": null,
   "metadata": {},
   "outputs": [
    {
     "name": "stdout",
     "output_type": "stream",
     "text": [
      "팥붕어빵 3개 주문 완료 되었습니다.\n",
      "남은 재고: {'팥붕어빵': 7, '슈크림붕어빵': 8, '초코붕어빵': 2}\n"
     ]
    }
   ],
   "source": [
    "while True:\n",
    "    jumun_jungryu = input('붕어빵 종류를 입력하세요. 없다면 \"종료\"를 입력하세요.: ')\n",
    "    \n",
    "    if jumun_jungryu == '종료':\n",
    "        break\n",
    "    jumun_su = int(input('붕어빵 수량을 입력하세요: '))\n",
    "\n",
    "    if jeago[jumun_jungryu] >= jumun_su:\n",
    "        jeago[jumun_jungryu] -= jumun_su\n",
    "        print(f'{jumun_jungryu} {jumun_su}개 주문 완료 되었습니다.')\n",
    "    else:\n",
    "        print('재고가 부족합니다.')\n",
    "\n",
    "print('남은 재고:', jeago)"
   ]
  },
  {
   "cell_type": "markdown",
   "metadata": {},
   "source": [
    "__[문제 5: 관리자 모드]__\n",
    "\n",
    "관리자 모드를 통해 붕어빵 재고를 추가할 수 있는 기능을 구현하세요.\n",
    "\n",
    "요구사항:\n",
    "- 관리자는 특정 붕어빵의 재고를 추가할 수 있습니다.\n",
    "- \"종료\"를 입력하면 관리자 모드를 종료합니다.\n",
    "- 추가된 재고를 업데이트하고 현재 재고를 화면에 출력합니다."
   ]
  },
  {
   "cell_type": "code",
   "execution_count": 13,
   "metadata": {},
   "outputs": [
    {
     "name": "stdout",
     "output_type": "stream",
     "text": [
      "팥붕어빵 5개 추가 완료 되었습니다.\n",
      "최종 재고: {'팥붕어빵': 12, '슈크림붕어빵': 8, '초코붕어빵': 10}\n"
     ]
    }
   ],
   "source": [
    "while True:\n",
    "    jumun_jungryu = input('추가할 붕어빵 종류를 입력하세요. 없다면 \"종료\"를 입력하세요.: ')\n",
    "    if jumun_jungryu == '종료':\n",
    "        break\n",
    "    chuga_su = int(input('추가할 붕어빵 수량을 입력하세요: '))\n",
    "    jeago[jumun_jungryu] += chuga_su\n",
    "    print(f'{jumun_jungryu} {chuga_su}개 추가 완료 되었습니다.')\n",
    "print('최종 재고:', jeago)"
   ]
  },
  {
   "cell_type": "markdown",
   "metadata": {},
   "source": [
    "__[문제 6: 매출 확인]__\n",
    "\n",
    "붕어빵 판매 가격을 설정하고, 판매한 붕어빵의 매출을 계산하세요.\n",
    "\n",
    "요구사항:\n",
    "- 각 붕어빵의 가격을 딕셔너리로 관리합니다.\n",
    "- 판매된 붕어빵의 종류와 개수를 딕셔너리로 관리합니다.\n",
    "- 총 매출을 계산하여 출력합니다.\n",
    "\n",
    "초기 설정:\n",
    "- 가격\n",
    "    - \"팥붕어빵\": 1000\n",
    "    - \"슈크림붕어빵\": 1200\n",
    "    - \"초코붕어빵\": 1500\n",
    "\n",
    "- 판매 개수\n",
    "    - \"팥붕어빵\": 0\n",
    "    - \"슈크림붕어빵\": 0\n",
    "    - \"초코붕어빵\": 0"
   ]
  },
  {
   "cell_type": "code",
   "execution_count": null,
   "metadata": {},
   "outputs": [
    {
     "name": "stdout",
     "output_type": "stream",
     "text": [
      "팥붕어빵 5개 주문 완료되었습니다.\n",
      "남은 재고: {'팥붕어빵': 5, '슈크림붕어빵': 8, '초코붕어빵': 5}\n",
      "현재 매출: {'팥붕어빵': 5000, '슈크림붕어빵': 0, '초코붕어빵': 0}\n",
      "최종 매출 : 5000 \n"
     ]
    }
   ],
   "source": [
    "# 초기 설정\n",
    "stock = {\n",
    "    '팥붕어빵': 10,\n",
    "    '슈크림붕어빵': 8,\n",
    "    '초코붕어빵': 5\n",
    "}\n",
    "\n",
    "price ={\n",
    "    '팥붕어빵': 1000,\n",
    "    '슈크림붕어빵': 1200,\n",
    "    '초코붕어빵': 1500\n",
    "}\n",
    "\n",
    "sales = {\n",
    "    '팥붕어빵': 0,\n",
    "    '슈크림붕어빵': 0,\n",
    "    '초코붕어빵': 0\n",
    "}\n",
    "\n",
    "# 붕어빵 주문 및 재고 관리\n",
    "while True:\n",
    "    mode = input('안녕하세요. 원하시는 모드를 선택하세요. (주문, 재고관리, 실행종료)): ')\n",
    "\n",
    "    if mode == '실행종료':\n",
    "        break\n",
    "\n",
    "    if mode == '주문':\n",
    "        bread = input('붕어빵 종류를 입력하세요 (팥붕어빵, 슈크림붕어빵, 초코붕어빵): ')\n",
    "        quantity = int(input('붕어빵 수량을 입력하세요: '))\n",
    "\n",
    "        if quantity > stock[bread]:\n",
    "            print('재고가 부족합니다.')\n",
    "        else:\n",
    "            stock[bread] -= quantity\n",
    "            sales[bread] += quantity * price[bread]\n",
    "            print(f'{bread} {quantity}개 주문 완료되었습니다.')\n",
    "\n",
    "        print('남은 재고:', stock)\n",
    "        print('현재 매출:', sales)\n",
    "    \n",
    "    elif mode == '재고관리':\n",
    "        while True:\n",
    "            command = input('재고관리 모드입니다. (추가, 삭제, 종료): ')\n",
    "            if command == '추가':\n",
    "                bread = input('추가할 붕어빵 종류를 입력하세요 (팥붕어빵, 슈크림붕어빵, 초코붕어빵): ')\n",
    "                quantity = int(input('추가할 붕어빵 수량을 입력하세요: '))\n",
    "                if bread in stock:\n",
    "                    stock[bread] += quantity\n",
    "                else:\n",
    "                    stock[bread] = quantity\n",
    "                    price[bread] = int(input('새로운 붕어빵의 가격을 입력하세요: '))\n",
    "                    sales[bread] = 0\n",
    "                print(f'{bread} {quantity}개 추가 완료되었습니다.')\n",
    "            elif command == '삭제':\n",
    "                bread = input('삭제할 붕어빵 종류를 입력하세요: ')\n",
    "                if bread in stock:\n",
    "                    del stock[bread]\n",
    "                    del price[bread]\n",
    "                    del sales[bread]\n",
    "                    print(f'{bread} 삭제 완료되었습니다.')\n",
    "                else:\n",
    "                    print('해당 붕어빵이 존재하지 않습니다.')\n",
    "            elif command == '종료':\n",
    "                break\n",
    "            else:\n",
    "                print('잘못된 입력입니다. 다시 시도하세요.')\n",
    "\n",
    "            print('현재 재고:', stock)\n",
    "\n",
    "# 매출 확인\n",
    "today_sales = sum(sales.values())\n",
    "print(f'최종 매출 : {today_sales} ')"
   ]
  },
  {
   "cell_type": "code",
   "execution_count": null,
   "metadata": {},
   "outputs": [
    {
     "name": "stdout",
     "output_type": "stream",
     "text": [
      "✅ 이전 데이터 불러오기 완료!\n",
      "✅ 팥붕어빵 3개 주문 완료되었습니다.\n",
      "남은 재고: {'팥붕어빵': 17, '슈크림붕어빵': 8, '초코붕어빵': 5}\n",
      "현재 매출: {'팥붕어빵': 3000, '슈크림붕어빵': 0, '초코붕어빵': 0}\n",
      "\n",
      "💾 데이터 저장 완료!\n",
      "📊 최종 매출: 3000 원\n",
      "👋 프로그램을 종료합니다.\n"
     ]
    }
   ],
   "source": [
    "# 위 코드는 프로그램 종료 시 데이터가 날아감.\n",
    "# 프로그램 종료시 데이터 저장 및 시작 시 JSON 파일에서 데이터를 불러오는 기능 추가\n",
    "# 좀더 이쁘게 만들어봄 \\0/\n",
    "\n",
    "import json\n",
    "\n",
    "# ==============================\n",
    "# 🔹 데이터 불러오기 (시작 시)\n",
    "# ==============================\n",
    "try:\n",
    "    with open('data.json', 'r', encoding='utf-8') as f:\n",
    "        data = json.load(f)\n",
    "        stock = data['stock']\n",
    "        price = data['price']\n",
    "        sales = data['sales']\n",
    "    print(\"✅ 이전 데이터 불러오기 완료!\")\n",
    "except FileNotFoundError:\n",
    "    print(\"⚠️ 저장된 데이터가 없습니다. 새로 시작합니다.\")\n",
    "    stock = {\n",
    "        '팥붕어빵': 10,\n",
    "        '슈크림붕어빵': 8,\n",
    "        '초코붕어빵': 5\n",
    "    }\n",
    "    price = {\n",
    "        '팥붕어빵': 1000,\n",
    "        '슈크림붕어빵': 1200,\n",
    "        '초코붕어빵': 1500\n",
    "    }\n",
    "    sales = {\n",
    "        '팥붕어빵': 0,\n",
    "        '슈크림붕어빵': 0,\n",
    "        '초코붕어빵': 0\n",
    "    }\n",
    "\n",
    "# ==============================\n",
    "# 🔹 메인 루프 시작\n",
    "# ==============================\n",
    "while True:\n",
    "    mode = input('\\n안녕하세요. 원하시는 모드를 선택하세요. (주문 / 재고관리 / 종료): ')\n",
    "\n",
    "    if mode == '종료':\n",
    "        break\n",
    "\n",
    "    elif mode == '주문':\n",
    "        bread = input('붕어빵 종류를 입력하세요 (팥붕어빵 / 슈크림붕어빵 / 초코붕어빵): ')\n",
    "        if bread not in stock:\n",
    "            print('❌ 존재하지 않는 붕어빵입니다.')\n",
    "            continue\n",
    "\n",
    "        quantity = int(input('붕어빵 수량을 입력하세요: '))\n",
    "\n",
    "        if quantity > stock[bread]:\n",
    "            print('⚠️ 재고가 부족합니다.')\n",
    "        else:\n",
    "            stock[bread] -= quantity\n",
    "            sales[bread] += quantity * price[bread]\n",
    "            print(f'✅ {bread} {quantity}개 주문 완료되었습니다.')\n",
    "\n",
    "        print('남은 재고:', stock)\n",
    "        print('현재 매출:', sales)\n",
    "\n",
    "    elif mode == '재고관리':\n",
    "        while True:\n",
    "            action = input('\\n재고관리 모드입니다. (추가 / 삭제 / 종료): ')\n",
    "            if action == '추가':\n",
    "                bread = input('추가할 붕어빵 종류를 입력하세요 (팥붕어빵 / 슈크림붕어빵 / 초코붕어빵): ')\n",
    "                quantity = int(input('추가할 붕어빵 수량을 입력하세요: '))\n",
    "                if bread in stock:\n",
    "                    stock[bread] += quantity\n",
    "                else:\n",
    "                    stock[bread] = quantity\n",
    "                    price[bread] = int(input('새로운 붕어빵의 가격을 입력하세요: '))\n",
    "                    sales[bread] = 0\n",
    "                print(f'✅ {bread} {quantity}개 추가 완료되었습니다.')\n",
    "\n",
    "            elif action == '삭제':\n",
    "                bread = input('삭제할 붕어빵 종류를 입력하세요 (팥붕어빵 / 슈크림붕어빵 / 초코붕어빵): ')\n",
    "                if bread in stock:\n",
    "                    del stock[bread]\n",
    "                    del price[bread]\n",
    "                    del sales[bread]\n",
    "                    print(f'🗑️ {bread} 삭제 완료되었습니다.')\n",
    "                else:\n",
    "                    print('⚠️ 해당 붕어빵이 존재하지 않습니다.')\n",
    "\n",
    "            elif action == '종료':\n",
    "                print('🔙 재고관리 모드 종료')\n",
    "                break\n",
    "            else:\n",
    "                print('⚠️ 잘못된 입력입니다. 다시 입력해주세요.')\n",
    "\n",
    "            print('현재 재고:', stock)\n",
    "\n",
    "    else:\n",
    "        print('⚠️ 잘못된 모드입니다. 다시 입력해주세요.')\n",
    "\n",
    "# ==============================\n",
    "# 🔹 프로그램 종료 시 저장\n",
    "# ==============================\n",
    "data = {'stock': stock, 'price': price, 'sales': sales}\n",
    "with open('data.json', 'w', encoding='utf-8') as f:\n",
    "    json.dump(data, f, ensure_ascii=False, indent=4)\n",
    "\n",
    "print(\"\\n💾 데이터 저장 완료!\")\n",
    "print(\"📊 최종 매출:\", sum(sales.values()), \"원\")\n",
    "print(\"👋 프로그램을 종료합니다.\")\n"
   ]
  }
 ],
 "metadata": {
  "colab": {
   "authorship_tag": "ABX9TyMLQjyUmELFyKkx1AyovOFZ",
   "provenance": []
  },
  "kernelspec": {
   "display_name": "Python 3",
   "name": "python3"
  },
  "language_info": {
   "codemirror_mode": {
    "name": "ipython",
    "version": 3
   },
   "file_extension": ".py",
   "mimetype": "text/x-python",
   "name": "python",
   "nbconvert_exporter": "python",
   "pygments_lexer": "ipython3",
   "version": "3.9.6"
  }
 },
 "nbformat": 4,
 "nbformat_minor": 0
}
